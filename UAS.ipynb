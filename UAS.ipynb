{
 "cells": [
  {
   "cell_type": "code",
   "execution_count": 41,
   "metadata": {},
   "outputs": [],
   "source": [
    "# Variable\n",
    "# 1. Pendapatan Bulanan (PB): Rendah (0-2 juta), Sedang (2-5 juta), Tinggi (5-10 juta)\n",
    "# 2. Utang (U): Rendah (0-10% dari PB), Sedang (10-30% dari PB), Tinggi (>30% dari PB)\n",
    "# 3. Riwayat Kredit (RK): Buruk (0-50%), Sedang (50-80%), Baik (>80%)\n",
    "# 4. Kelayakan Kredit (KK): Tidak Layak (0-30%), Layak (30-70%), Sangat Layak (>70%)\n",
    "\n",
    "# Rule\n",
    "# 1. Jika PB rendah dan U tinggi, maka KK tidak layak.\n",
    "# 2. Jika PB sedang dan U sedang, maka KK layak.\n",
    "# 3. Jika PB tinggi dan RK baik, maka KK sangat layak.\n",
    "# 4. Jika RK buruk, maka KK tidak layak.\n",
    "\n",
    "\n",
    "# 1. Pendapatan Bulanan:\n",
    "# - Rendah: μ(x) = 1 untuk x ≤ 2 juta, μ(x) = (5-x)/3 untuk 2 < x ≤ 5\n",
    "# - Sedang: μ(x) = (x-2)/3 untuk 2 < x ≤ 5, μ(x) = (10-x)/5 untuk 5 < x ≤ 10\n",
    "# - Tinggi: μ(x) = 1 untuk x > 5\n",
    "# 2. Utang:\n",
    "# - Rendah: μ(x) = 1 untuk x ≤ 10%, μ(x) = (30-x)/20 untuk 10 < x ≤ 30\n",
    "# - Sedang: μ(x) = (x-10)/20 untuk 10 < x ≤ 30, μ(x) = (100-x)/70 untuk 30 < x ≤ 100\n",
    "# - Tinggi: μ(x) = 1 untuk x > 30\n",
    "# 3. Riwayat Kredit:\n",
    "# - Buruk: μ(x) = 1 untuk x ≤ 50%, μ(x) = (80-x)/30 untuk 50 < x ≤ 80\n",
    "# - Sedang: μ(x) = (x-50)/30 untuk 50 < x ≤ 80, μ(x) = (100-x)/20 untuk 80 < x ≤ 100\n",
    "# - Baik: μ(x) = 1 untuk x > 80\n"
   ]
  },
  {
   "cell_type": "code",
   "execution_count": 42,
   "metadata": {
    "vscode": {
     "languageId": "plaintext"
    }
   },
   "outputs": [],
   "source": [
    "class Fuzzy:\n",
    "    def __init__(self):\n",
    "        self.min_pb = 0\n",
    "        self.max_pb = 10000000\n",
    "        self.min_u = 0\n",
    "        self.max_u = 100\n",
    "        self.min_rk = 0\n",
    "        self.max_rk = 100\n",
    "    \n",
    "    def membership_pb(self, x):\n",
    "        if x <= 2000000:\n",
    "            return 1\n",
    "        elif x <= 5000000:\n",
    "            return (5000000-x)/3000000\n",
    "        else:\n",
    "            return 0\n",
    "    \n",
    "    def membership_u(self, x):\n",
    "        if x <= 10:\n",
    "            return 1\n",
    "        elif x <= 30:\n",
    "            return (30-x)/20\n",
    "        else:\n",
    "            return 0\n",
    "    \n",
    "    def membership_rk(self, x):\n",
    "        if x <= 50:\n",
    "            return 1\n",
    "        elif x <= 80:\n",
    "            return (80-x)/30\n",
    "        else:\n",
    "            return 0\n",
    "    \n",
    "    def inferensi(self, pb, u, rk):\n",
    "        pb_keanggotaan = self.membership_pb(pb)\n",
    "        u_keanggotaan = self.membership_u(u)\n",
    "        rk_keanggotaan = self.membership_rk(rk)\n",
    "        \n",
    "        if pb_keanggotaan < 0.5 and u_keanggotaan > 0.5:\n",
    "            return \"Tidak Layak\"\n",
    "        elif pb_keanggotaan >= 0.5 and pb_keanggotaan < 0.8 and u_keanggotaan >= 0.5:\n",
    "            return \"Layak\"\n",
    "        elif pb_keanggotaan >= 0.8 and rk_keanggotaan > 0.5:\n",
    "            return \"Sangat Layak\"\n",
    "        else:\n",
    "            return \"Tidak Layak\"\n"
   ]
  },
  {
   "cell_type": "code",
   "execution_count": 43,
   "metadata": {},
   "outputs": [
    {
     "name": "stdout",
     "output_type": "stream",
     "text": [
      "Pendapatan Bulanan:  600000\n",
      "Utang:  10 %\n",
      "Riwayat Kredit:  70 %\n",
      "Kelayakan Kredit:  Tidak Layak\n"
     ]
    }
   ],
   "source": [
    "fuzzy = Fuzzy()\n",
    "\n",
    "pendapatan_bulanan = 600000\n",
    "utang = 10\n",
    "riwayat_kredit = 70\n",
    "\n",
    "hasil = fuzzy.inferensi(pendapatan_bulanan, utang, riwayat_kredit)\n",
    "\n",
    "print(\"Pendapatan Bulanan: \", pendapatan_bulanan)\n",
    "print(\"Utang: \", utang, \"%\")\n",
    "print(\"Riwayat Kredit: \", riwayat_kredit, \"%\")\n",
    "print(\"Kelayakan Kredit: \", hasil)\n",
    "\n",
    "\n"
   ]
  }
 ],
 "metadata": {
  "kernelspec": {
   "display_name": "Python 3 (ipykernel)",
   "language": "python",
   "name": "python3"
  },
  "language_info": {
   "codemirror_mode": {
    "name": "ipython",
    "version": 3
   },
   "file_extension": ".py",
   "mimetype": "text/x-python",
   "name": "python",
   "nbconvert_exporter": "python",
   "pygments_lexer": "ipython3",
   "version": "3.8.10"
  }
 },
 "nbformat": 4,
 "nbformat_minor": 4
}
